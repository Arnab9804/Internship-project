{
 "cells": [
  {
   "cell_type": "code",
   "execution_count": 1,
   "id": "d8d844e7",
   "metadata": {},
   "outputs": [],
   "source": [
    "import selenium\n",
    "from selenium import webdriver\n",
    "from selenium.webdriver.common.by import By\n",
    "import time\n",
    "import pandas as pd"
   ]
  },
  {
   "cell_type": "code",
   "execution_count": 8,
   "id": "99c5f002",
   "metadata": {},
   "outputs": [],
   "source": [
    "driver=webdriver.Chrome()\n",
    "\n",
    "driver.get('https://www.shine.com/')"
   ]
  },
  {
   "cell_type": "code",
   "execution_count": 9,
   "id": "319b5916",
   "metadata": {},
   "outputs": [],
   "source": [
    "cross_button=driver.find_element(By.XPATH,'//button[@class=\"btn-close \"]')\n",
    "cross_button.click()\n",
    "\n"
   ]
  },
  {
   "cell_type": "code",
   "execution_count": 10,
   "id": "b7a19ec8",
   "metadata": {},
   "outputs": [],
   "source": [
    "Title_tag=driver.find_element(By.XPATH,'/html/body/div/div[4]/div/div[2]/div[2]/div/form/div/div[1]/ul/li[1]/div/input').send_keys('Data Analyst')"
   ]
  },
  {
   "cell_type": "code",
   "execution_count": 11,
   "id": "181fb9a8",
   "metadata": {},
   "outputs": [],
   "source": [
    "Location_tag=driver.find_element(By.XPATH,'/html/body/div/div[4]/div/div[2]/div[2]/div/form/div/div[1]/ul/li[2]/div/input').send_keys('Delhi')"
   ]
  },
  {
   "cell_type": "code",
   "execution_count": 12,
   "id": "f447e1c8",
   "metadata": {},
   "outputs": [],
   "source": [
    "Search=driver.find_element(By.XPATH,'/html/body/div/div[4]/div/div[2]/div[2]/div/form/div/div[2]/div/button')\n",
    "Search.click()"
   ]
  },
  {
   "cell_type": "code",
   "execution_count": 13,
   "id": "e6c4db39",
   "metadata": {},
   "outputs": [],
   "source": [
    "salary_Button=driver.find_element(By.XPATH,'/html/body/div[1]/div[1]/div[3]/div/div[1]/div/div[2]/div/ul/li[3]/button/i')\n",
    "salary_Button.click()"
   ]
  },
  {
   "cell_type": "code",
   "execution_count": 14,
   "id": "787c5eb7",
   "metadata": {},
   "outputs": [],
   "source": [
    "check_Button=driver.find_element(By.XPATH,'/html/body/div[1]/div[1]/div[3]/div/div[1]/div/div[2]/div[2]/div/div/div/div[3]/div/div/div/ul/li[3]/span/label')\n",
    "check_Button.click()"
   ]
  },
  {
   "cell_type": "code",
   "execution_count": 15,
   "id": "74ae46fc",
   "metadata": {},
   "outputs": [],
   "source": [
    "Show_Result=driver.find_element(By.XPATH,'/html/body/div[1]/div[1]/div[3]/div/div[1]/div/div[2]/div[2]/div/div/div/div[4]/button[2]')\n",
    "Show_Result.click()"
   ]
  },
  {
   "cell_type": "code",
   "execution_count": 17,
   "id": "9eb2dc7e",
   "metadata": {},
   "outputs": [
    {
     "name": "stdout",
     "output_type": "stream",
     "text": [
      "10\n"
     ]
    }
   ],
   "source": [
    "job_Title=[]\n",
    "Company_Name=[]\n",
    "Experience=[]\n",
    "\n",
    "Job_tag=driver.find_elements(By.XPATH,'//h2[@itemprop=\"name\"]')\n",
    "\n",
    "for i in Job_tag[0:10]:\n",
    "    job_Title.append(i.text)\n",
    "    \n",
    "print(len(job_Title))"
   ]
  },
  {
   "cell_type": "code",
   "execution_count": 18,
   "id": "ea00463f",
   "metadata": {},
   "outputs": [
    {
     "name": "stdout",
     "output_type": "stream",
     "text": [
      "10\n"
     ]
    }
   ],
   "source": [
    "Company_Tag=driver.find_elements(By.XPATH,'//div[@class=\"jobCard_jobCard_cName__mYnow\"]')\n",
    "\n",
    "for i in Company_Tag[0:10]:\n",
    "    Company_Name.append(i.text)\n",
    "    \n",
    "print(len(Company_Name))\n",
    "    \n",
    "    "
   ]
  },
  {
   "cell_type": "code",
   "execution_count": 19,
   "id": "ba0451c6",
   "metadata": {},
   "outputs": [
    {
     "name": "stdout",
     "output_type": "stream",
     "text": [
      "10\n"
     ]
    }
   ],
   "source": [
    "Experience_tag=driver.find_elements(By.XPATH,'//div[@class=\" jobCard_jobCard_lists_item__YxRkV jobCard_jobIcon__3FB1t\"]')\n",
    "\n",
    "for i in Experience_tag[0:10]:\n",
    "    Experience.append(i.text)\n",
    "    \n",
    "print(len(Experience))"
   ]
  },
  {
   "cell_type": "code",
   "execution_count": 20,
   "id": "3d6c9453",
   "metadata": {},
   "outputs": [
    {
     "data": {
      "text/html": [
       "<div>\n",
       "<style scoped>\n",
       "    .dataframe tbody tr th:only-of-type {\n",
       "        vertical-align: middle;\n",
       "    }\n",
       "\n",
       "    .dataframe tbody tr th {\n",
       "        vertical-align: top;\n",
       "    }\n",
       "\n",
       "    .dataframe thead th {\n",
       "        text-align: right;\n",
       "    }\n",
       "</style>\n",
       "<table border=\"1\" class=\"dataframe\">\n",
       "  <thead>\n",
       "    <tr style=\"text-align: right;\">\n",
       "      <th></th>\n",
       "      <th>job_Title</th>\n",
       "      <th>Company_Name</th>\n",
       "      <th>Experience</th>\n",
       "    </tr>\n",
       "  </thead>\n",
       "  <tbody>\n",
       "    <tr>\n",
       "      <th>0</th>\n",
       "      <td>Clinical Data Analyst</td>\n",
       "      <td>techno endura</td>\n",
       "      <td>0 to 1 Yr</td>\n",
       "    </tr>\n",
       "    <tr>\n",
       "      <th>1</th>\n",
       "      <td>Hiring for MIS-Data Analyst-Gurgaon Location</td>\n",
       "      <td>asap staffing solutions</td>\n",
       "      <td>0 to 4 Yrs</td>\n",
       "    </tr>\n",
       "    <tr>\n",
       "      <th>2</th>\n",
       "      <td>Clinical Data Analyst</td>\n",
       "      <td>techno endura</td>\n",
       "      <td>0 to 1 Yr</td>\n",
       "    </tr>\n",
       "    <tr>\n",
       "      <th>3</th>\n",
       "      <td>Technical Data Analyst</td>\n",
       "      <td>krishna consultancy.. hiring for co...</td>\n",
       "      <td>4 to 9 Yrs</td>\n",
       "    </tr>\n",
       "    <tr>\n",
       "      <th>4</th>\n",
       "      <td>Data Modeler</td>\n",
       "      <td>v-tech data outsourcing</td>\n",
       "      <td>0 to 2 Yrs</td>\n",
       "    </tr>\n",
       "    <tr>\n",
       "      <th>5</th>\n",
       "      <td>Clinical Data Analyst</td>\n",
       "      <td>techno endura</td>\n",
       "      <td>0 to 1 Yr</td>\n",
       "    </tr>\n",
       "    <tr>\n",
       "      <th>6</th>\n",
       "      <td>Senior Data Analyst</td>\n",
       "      <td>harjai computers private limited</td>\n",
       "      <td>0 to 2 Yrs</td>\n",
       "    </tr>\n",
       "    <tr>\n",
       "      <th>7</th>\n",
       "      <td>Hiring For Data Analyst</td>\n",
       "      <td>harjai computers private limited</td>\n",
       "      <td>2 to 5 Yrs</td>\n",
       "    </tr>\n",
       "    <tr>\n",
       "      <th>8</th>\n",
       "      <td>Requirement For 'Business Data Analyst' For Noida</td>\n",
       "      <td>talent corner hr services pvt ltd</td>\n",
       "      <td>3 to 4 Yrs</td>\n",
       "    </tr>\n",
       "    <tr>\n",
       "      <th>9</th>\n",
       "      <td>Systems Integration Senior Analyst</td>\n",
       "      <td>ntt global delivery services limite...</td>\n",
       "      <td>3 to 5 Yrs</td>\n",
       "    </tr>\n",
       "  </tbody>\n",
       "</table>\n",
       "</div>"
      ],
      "text/plain": [
       "                                           job_Title  \\\n",
       "0                              Clinical Data Analyst   \n",
       "1       Hiring for MIS-Data Analyst-Gurgaon Location   \n",
       "2                              Clinical Data Analyst   \n",
       "3                             Technical Data Analyst   \n",
       "4                                       Data Modeler   \n",
       "5                              Clinical Data Analyst   \n",
       "6                                Senior Data Analyst   \n",
       "7                            Hiring For Data Analyst   \n",
       "8  Requirement For 'Business Data Analyst' For Noida   \n",
       "9                 Systems Integration Senior Analyst   \n",
       "\n",
       "                             Company_Name  Experience  \n",
       "0                           techno endura   0 to 1 Yr  \n",
       "1                 asap staffing solutions  0 to 4 Yrs  \n",
       "2                           techno endura   0 to 1 Yr  \n",
       "3  krishna consultancy.. hiring for co...  4 to 9 Yrs  \n",
       "4                 v-tech data outsourcing  0 to 2 Yrs  \n",
       "5                           techno endura   0 to 1 Yr  \n",
       "6        harjai computers private limited  0 to 2 Yrs  \n",
       "7        harjai computers private limited  2 to 5 Yrs  \n",
       "8       talent corner hr services pvt ltd  3 to 4 Yrs  \n",
       "9  ntt global delivery services limite...  3 to 5 Yrs  "
      ]
     },
     "execution_count": 20,
     "metadata": {},
     "output_type": "execute_result"
    }
   ],
   "source": [
    "df=pd.DataFrame({'job_Title':job_Title,'Company_Name':Company_Name,'Experience':Experience})\n",
    "df"
   ]
  },
  {
   "cell_type": "code",
   "execution_count": null,
   "id": "f71e923a",
   "metadata": {},
   "outputs": [],
   "source": []
  }
 ],
 "metadata": {
  "kernelspec": {
   "display_name": "Python 3 (ipykernel)",
   "language": "python",
   "name": "python3"
  },
  "language_info": {
   "codemirror_mode": {
    "name": "ipython",
    "version": 3
   },
   "file_extension": ".py",
   "mimetype": "text/x-python",
   "name": "python",
   "nbconvert_exporter": "python",
   "pygments_lexer": "ipython3",
   "version": "3.11.4"
  },
  "varInspector": {
   "cols": {
    "lenName": 16,
    "lenType": 16,
    "lenVar": 40
   },
   "kernels_config": {
    "python": {
     "delete_cmd_postfix": "",
     "delete_cmd_prefix": "del ",
     "library": "var_list.py",
     "varRefreshCmd": "print(var_dic_list())"
    },
    "r": {
     "delete_cmd_postfix": ") ",
     "delete_cmd_prefix": "rm(",
     "library": "var_list.r",
     "varRefreshCmd": "cat(var_dic_list()) "
    }
   },
   "types_to_exclude": [
    "module",
    "function",
    "builtin_function_or_method",
    "instance",
    "_Feature"
   ],
   "window_display": false
  }
 },
 "nbformat": 4,
 "nbformat_minor": 5
}
