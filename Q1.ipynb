{
 "cells": [
  {
   "cell_type": "code",
   "execution_count": 1,
   "id": "a3bee980",
   "metadata": {},
   "outputs": [],
   "source": [
    "import selenium\n",
    "from selenium import webdriver\n",
    "import pandas as pd\n",
    "from selenium.webdriver.common.by import By\n",
    "import time"
   ]
  },
  {
   "cell_type": "code",
   "execution_count": 4,
   "id": "d0b2d453",
   "metadata": {},
   "outputs": [],
   "source": [
    "driver=webdriver.Chrome()\n",
    "driver.get('https://www.shine.com/')\n",
    "\n"
   ]
  },
  {
   "cell_type": "code",
   "execution_count": 7,
   "id": "114c353f",
   "metadata": {},
   "outputs": [],
   "source": [
    "input_tag=driver.find_element(By.XPATH,'//input[@id=\"id_q\"]')\n",
    "input_tag.send_keys('Data Analyst')\n",
    "\n",
    "location_tag=driver.find_element(By.XPATH,'//input[@id=\"id_loc\"]')\n",
    "location_tag.send_keys('Bangalore')\n",
    "\n",
    "Search_button=driver.find_element(By.XPATH,'//div[@class=\"searchForm_btnWrap_advance__VYBHN\"]/button')\n",
    "Search_button.click()"
   ]
  },
  {
   "cell_type": "code",
   "execution_count": 8,
   "id": "06da411d",
   "metadata": {},
   "outputs": [
    {
     "name": "stdout",
     "output_type": "stream",
     "text": [
      "10\n"
     ]
    }
   ],
   "source": [
    "Job_Name=[]\n",
    "Company_Name=[]\n",
    "Exception=[]\n",
    "\n",
    "Company_tag=driver.find_elements(By.XPATH,'//div[@class=\"jobCard_jobCard_cName__mYnow\"]/span')\n",
    "for i in Company_tag[0:10]:\n",
    "    Company_Name.append(i.text)\n",
    "print(len(Company_Name))\n",
    "    \n"
   ]
  },
  {
   "cell_type": "code",
   "execution_count": 9,
   "id": "b152b811",
   "metadata": {},
   "outputs": [
    {
     "name": "stdout",
     "output_type": "stream",
     "text": [
      "10\n"
     ]
    }
   ],
   "source": [
    "Exception_tag=driver.find_elements(By.XPATH,'//div[@class=\" jobCard_jobCard_lists_item__YxRkV jobCard_jobIcon__3FB1t\"]')\n",
    "for i in Exception_tag[0:10]:\n",
    "    Exception.append(i.text)\n",
    "    \n",
    "print(len(Exception))\n",
    "    "
   ]
  },
  {
   "cell_type": "code",
   "execution_count": 10,
   "id": "cc9886d1",
   "metadata": {},
   "outputs": [
    {
     "name": "stdout",
     "output_type": "stream",
     "text": [
      "10\n"
     ]
    }
   ],
   "source": [
    "Job_tag=driver.find_elements(By.XPATH,'//h2[@itemprop=\"name\"]')\n",
    "for i in Job_tag[0:10]:\n",
    "    Job_Name.append(i.text)\n",
    "    \n",
    "print(len(Job_Name))\n",
    "    "
   ]
  },
  {
   "cell_type": "code",
   "execution_count": 11,
   "id": "545f56f9",
   "metadata": {},
   "outputs": [
    {
     "data": {
      "text/html": [
       "<div>\n",
       "<style scoped>\n",
       "    .dataframe tbody tr th:only-of-type {\n",
       "        vertical-align: middle;\n",
       "    }\n",
       "\n",
       "    .dataframe tbody tr th {\n",
       "        vertical-align: top;\n",
       "    }\n",
       "\n",
       "    .dataframe thead th {\n",
       "        text-align: right;\n",
       "    }\n",
       "</style>\n",
       "<table border=\"1\" class=\"dataframe\">\n",
       "  <thead>\n",
       "    <tr style=\"text-align: right;\">\n",
       "      <th></th>\n",
       "      <th>Job_Name</th>\n",
       "      <th>Company_Name</th>\n",
       "      <th>Exception</th>\n",
       "    </tr>\n",
       "  </thead>\n",
       "  <tbody>\n",
       "    <tr>\n",
       "      <th>0</th>\n",
       "      <td>Computer Systems Analyst</td>\n",
       "      <td>v-tech data outsourcing</td>\n",
       "      <td>0 to 2 Yrs</td>\n",
       "    </tr>\n",
       "    <tr>\n",
       "      <th>1</th>\n",
       "      <td>System Administration Analyst</td>\n",
       "      <td>ntt data information processing ser...</td>\n",
       "      <td>3 to 6 Yrs</td>\n",
       "    </tr>\n",
       "    <tr>\n",
       "      <th>2</th>\n",
       "      <td>Data Management Analyst</td>\n",
       "      <td>v-tech data outsourcing</td>\n",
       "      <td>0 to 2 Yrs</td>\n",
       "    </tr>\n",
       "    <tr>\n",
       "      <th>3</th>\n",
       "      <td>CIB - Chief Data Office Business Analyst - Ass...</td>\n",
       "      <td>jpmorgan chase &amp; co.</td>\n",
       "      <td>10 to 12 Yrs</td>\n",
       "    </tr>\n",
       "    <tr>\n",
       "      <th>4</th>\n",
       "      <td>Data Analyst - Products</td>\n",
       "      <td>medtronic</td>\n",
       "      <td>1 to 3 Yrs</td>\n",
       "    </tr>\n",
       "    <tr>\n",
       "      <th>5</th>\n",
       "      <td>Opening for WFH(data typing work)</td>\n",
       "      <td>v-tech data outsourcing</td>\n",
       "      <td>0 to 2 Yrs</td>\n",
       "    </tr>\n",
       "    <tr>\n",
       "      <th>6</th>\n",
       "      <td>New Part Time work for Data Entry &amp; Page typin...</td>\n",
       "      <td>v-tech data outsourcing</td>\n",
       "      <td>0 to 2 Yrs</td>\n",
       "    </tr>\n",
       "    <tr>\n",
       "      <th>7</th>\n",
       "      <td>Computer Systems Analyst</td>\n",
       "      <td>v-tech data outsourcing</td>\n",
       "      <td>0 to 2 Yrs</td>\n",
       "    </tr>\n",
       "    <tr>\n",
       "      <th>8</th>\n",
       "      <td>Data Analyst Vacancy</td>\n",
       "      <td>divya interprises</td>\n",
       "      <td>0 to 4 Yrs</td>\n",
       "    </tr>\n",
       "    <tr>\n",
       "      <th>9</th>\n",
       "      <td>Data Analyst Vacancy</td>\n",
       "      <td>divya interprises</td>\n",
       "      <td>0 to 4 Yrs</td>\n",
       "    </tr>\n",
       "  </tbody>\n",
       "</table>\n",
       "</div>"
      ],
      "text/plain": [
       "                                            Job_Name  \\\n",
       "0                           Computer Systems Analyst   \n",
       "1                      System Administration Analyst   \n",
       "2                            Data Management Analyst   \n",
       "3  CIB - Chief Data Office Business Analyst - Ass...   \n",
       "4                            Data Analyst - Products   \n",
       "5                  Opening for WFH(data typing work)   \n",
       "6  New Part Time work for Data Entry & Page typin...   \n",
       "7                           Computer Systems Analyst   \n",
       "8                               Data Analyst Vacancy   \n",
       "9                               Data Analyst Vacancy   \n",
       "\n",
       "                             Company_Name     Exception  \n",
       "0                 v-tech data outsourcing    0 to 2 Yrs  \n",
       "1  ntt data information processing ser...    3 to 6 Yrs  \n",
       "2                 v-tech data outsourcing    0 to 2 Yrs  \n",
       "3                    jpmorgan chase & co.  10 to 12 Yrs  \n",
       "4                               medtronic    1 to 3 Yrs  \n",
       "5                 v-tech data outsourcing    0 to 2 Yrs  \n",
       "6                 v-tech data outsourcing    0 to 2 Yrs  \n",
       "7                 v-tech data outsourcing    0 to 2 Yrs  \n",
       "8                       divya interprises    0 to 4 Yrs  \n",
       "9                       divya interprises    0 to 4 Yrs  "
      ]
     },
     "execution_count": 11,
     "metadata": {},
     "output_type": "execute_result"
    }
   ],
   "source": [
    "df=pd.DataFrame({'Job_Name':Job_Name,'Company_Name':Company_Name,'Exception':Exception})\n",
    "df"
   ]
  },
  {
   "cell_type": "code",
   "execution_count": null,
   "id": "303312c5",
   "metadata": {},
   "outputs": [],
   "source": []
  }
 ],
 "metadata": {
  "kernelspec": {
   "display_name": "Python 3 (ipykernel)",
   "language": "python",
   "name": "python3"
  },
  "language_info": {
   "codemirror_mode": {
    "name": "ipython",
    "version": 3
   },
   "file_extension": ".py",
   "mimetype": "text/x-python",
   "name": "python",
   "nbconvert_exporter": "python",
   "pygments_lexer": "ipython3",
   "version": "3.11.4"
  },
  "varInspector": {
   "cols": {
    "lenName": 16,
    "lenType": 16,
    "lenVar": 40
   },
   "kernels_config": {
    "python": {
     "delete_cmd_postfix": "",
     "delete_cmd_prefix": "del ",
     "library": "var_list.py",
     "varRefreshCmd": "print(var_dic_list())"
    },
    "r": {
     "delete_cmd_postfix": ") ",
     "delete_cmd_prefix": "rm(",
     "library": "var_list.r",
     "varRefreshCmd": "cat(var_dic_list()) "
    }
   },
   "types_to_exclude": [
    "module",
    "function",
    "builtin_function_or_method",
    "instance",
    "_Feature"
   ],
   "window_display": false
  }
 },
 "nbformat": 4,
 "nbformat_minor": 5
}
